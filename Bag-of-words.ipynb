{
  "nbformat": 4,
  "nbformat_minor": 0,
  "metadata": {
    "colab": {
      "name": "Email-classification.ipynb",
      "provenance": [],
      "authorship_tag": "ABX9TyOuoJoRLbghywRFV4AHzm3b",
      "include_colab_link": true
    },
    "kernelspec": {
      "name": "python3",
      "display_name": "Python 3"
    },
    "language_info": {
      "name": "python"
    }
  },
  "cells": [
    {
      "cell_type": "markdown",
      "metadata": {
        "id": "view-in-github",
        "colab_type": "text"
      },
      "source": [
        "<a href=\"https://colab.research.google.com/github/sahibpreetsingh12/blogs/blob/main/Bag-of-words.ipynb\" target=\"_parent\"><img src=\"https://colab.research.google.com/assets/colab-badge.svg\" alt=\"Open In Colab\"/></a>"
      ]
    },
    {
      "cell_type": "code",
      "execution_count": 12,
      "metadata": {
        "colab": {
          "base_uri": "https://localhost:8080/",
          "height": 423
        },
        "id": "0uiQYtUrXvzt",
        "outputId": "f9013a9c-5908-4cde-d614-53712a4d08c9"
      },
      "outputs": [
        {
          "output_type": "execute_result",
          "data": {
            "text/html": [
              "\n",
              "  <div id=\"df-4f46e783-ca4e-4a7a-9234-6b43f203d892\">\n",
              "    <div class=\"colab-df-container\">\n",
              "      <div>\n",
              "<style scoped>\n",
              "    .dataframe tbody tr th:only-of-type {\n",
              "        vertical-align: middle;\n",
              "    }\n",
              "\n",
              "    .dataframe tbody tr th {\n",
              "        vertical-align: top;\n",
              "    }\n",
              "\n",
              "    .dataframe thead th {\n",
              "        text-align: right;\n",
              "    }\n",
              "</style>\n",
              "<table border=\"1\" class=\"dataframe\">\n",
              "  <thead>\n",
              "    <tr style=\"text-align: right;\">\n",
              "      <th></th>\n",
              "      <th>Message_body</th>\n",
              "      <th>Label</th>\n",
              "    </tr>\n",
              "  </thead>\n",
              "  <tbody>\n",
              "    <tr>\n",
              "      <th>717</th>\n",
              "      <td>Many more happy returns of the day. I wish you...</td>\n",
              "      <td>Non-Spam</td>\n",
              "    </tr>\n",
              "    <tr>\n",
              "      <th>784</th>\n",
              "      <td>I send the print  outs da.</td>\n",
              "      <td>Non-Spam</td>\n",
              "    </tr>\n",
              "    <tr>\n",
              "      <th>37</th>\n",
              "      <td>What about this one then.</td>\n",
              "      <td>Non-Spam</td>\n",
              "    </tr>\n",
              "    <tr>\n",
              "      <th>109</th>\n",
              "      <td>I thought i'd get him a watch, just cos thats ...</td>\n",
              "      <td>Non-Spam</td>\n",
              "    </tr>\n",
              "    <tr>\n",
              "      <th>846</th>\n",
              "      <td>Camera - _ are awarded a SiPix Digital Camera!...</td>\n",
              "      <td>Spam</td>\n",
              "    </tr>\n",
              "    <tr>\n",
              "      <th>...</th>\n",
              "      <td>...</td>\n",
              "      <td>...</td>\n",
              "    </tr>\n",
              "    <tr>\n",
              "      <th>1428</th>\n",
              "      <td>Natalja (/ F) is inviting you to be her friend...</td>\n",
              "      <td>Spam</td>\n",
              "    </tr>\n",
              "    <tr>\n",
              "      <th>973</th>\n",
              "      <td>! Your 2003 Account Statement for shows un - r...</td>\n",
              "      <td>Spam</td>\n",
              "    </tr>\n",
              "    <tr>\n",
              "      <th>211</th>\n",
              "      <td>Dude im no longer a pisces. Im an aquarius now.</td>\n",
              "      <td>Non-Spam</td>\n",
              "    </tr>\n",
              "    <tr>\n",
              "      <th>667</th>\n",
              "      <td>its cool but tyler had to take off so we're go...</td>\n",
              "      <td>Non-Spam</td>\n",
              "    </tr>\n",
              "    <tr>\n",
              "      <th>924</th>\n",
              "      <td>_ your garden _ for _ with a FREE selection of...</td>\n",
              "      <td>Spam</td>\n",
              "    </tr>\n",
              "  </tbody>\n",
              "</table>\n",
              "<p>1677 rows × 2 columns</p>\n",
              "</div>\n",
              "      <button class=\"colab-df-convert\" onclick=\"convertToInteractive('df-4f46e783-ca4e-4a7a-9234-6b43f203d892')\"\n",
              "              title=\"Convert this dataframe to an interactive table.\"\n",
              "              style=\"display:none;\">\n",
              "        \n",
              "  <svg xmlns=\"http://www.w3.org/2000/svg\" height=\"24px\"viewBox=\"0 0 24 24\"\n",
              "       width=\"24px\">\n",
              "    <path d=\"M0 0h24v24H0V0z\" fill=\"none\"/>\n",
              "    <path d=\"M18.56 5.44l.94 2.06.94-2.06 2.06-.94-2.06-.94-.94-2.06-.94 2.06-2.06.94zm-11 1L8.5 8.5l.94-2.06 2.06-.94-2.06-.94L8.5 2.5l-.94 2.06-2.06.94zm10 10l.94 2.06.94-2.06 2.06-.94-2.06-.94-.94-2.06-.94 2.06-2.06.94z\"/><path d=\"M17.41 7.96l-1.37-1.37c-.4-.4-.92-.59-1.43-.59-.52 0-1.04.2-1.43.59L10.3 9.45l-7.72 7.72c-.78.78-.78 2.05 0 2.83L4 21.41c.39.39.9.59 1.41.59.51 0 1.02-.2 1.41-.59l7.78-7.78 2.81-2.81c.8-.78.8-2.07 0-2.86zM5.41 20L4 18.59l7.72-7.72 1.47 1.35L5.41 20z\"/>\n",
              "  </svg>\n",
              "      </button>\n",
              "      \n",
              "  <style>\n",
              "    .colab-df-container {\n",
              "      display:flex;\n",
              "      flex-wrap:wrap;\n",
              "      gap: 12px;\n",
              "    }\n",
              "\n",
              "    .colab-df-convert {\n",
              "      background-color: #E8F0FE;\n",
              "      border: none;\n",
              "      border-radius: 50%;\n",
              "      cursor: pointer;\n",
              "      display: none;\n",
              "      fill: #1967D2;\n",
              "      height: 32px;\n",
              "      padding: 0 0 0 0;\n",
              "      width: 32px;\n",
              "    }\n",
              "\n",
              "    .colab-df-convert:hover {\n",
              "      background-color: #E2EBFA;\n",
              "      box-shadow: 0px 1px 2px rgba(60, 64, 67, 0.3), 0px 1px 3px 1px rgba(60, 64, 67, 0.15);\n",
              "      fill: #174EA6;\n",
              "    }\n",
              "\n",
              "    [theme=dark] .colab-df-convert {\n",
              "      background-color: #3B4455;\n",
              "      fill: #D2E3FC;\n",
              "    }\n",
              "\n",
              "    [theme=dark] .colab-df-convert:hover {\n",
              "      background-color: #434B5C;\n",
              "      box-shadow: 0px 1px 3px 1px rgba(0, 0, 0, 0.15);\n",
              "      filter: drop-shadow(0px 1px 2px rgba(0, 0, 0, 0.3));\n",
              "      fill: #FFFFFF;\n",
              "    }\n",
              "  </style>\n",
              "\n",
              "      <script>\n",
              "        const buttonEl =\n",
              "          document.querySelector('#df-4f46e783-ca4e-4a7a-9234-6b43f203d892 button.colab-df-convert');\n",
              "        buttonEl.style.display =\n",
              "          google.colab.kernel.accessAllowed ? 'block' : 'none';\n",
              "\n",
              "        async function convertToInteractive(key) {\n",
              "          const element = document.querySelector('#df-4f46e783-ca4e-4a7a-9234-6b43f203d892');\n",
              "          const dataTable =\n",
              "            await google.colab.kernel.invokeFunction('convertToInteractive',\n",
              "                                                     [key], {});\n",
              "          if (!dataTable) return;\n",
              "\n",
              "          const docLinkHtml = 'Like what you see? Visit the ' +\n",
              "            '<a target=\"_blank\" href=https://colab.research.google.com/notebooks/data_table.ipynb>data table notebook</a>'\n",
              "            + ' to learn more about interactive tables.';\n",
              "          element.innerHTML = '';\n",
              "          dataTable['output_type'] = 'display_data';\n",
              "          await google.colab.output.renderOutput(dataTable, element);\n",
              "          const docLink = document.createElement('div');\n",
              "          docLink.innerHTML = docLinkHtml;\n",
              "          element.appendChild(docLink);\n",
              "        }\n",
              "      </script>\n",
              "    </div>\n",
              "  </div>\n",
              "  "
            ],
            "text/plain": [
              "                                           Message_body     Label\n",
              "717   Many more happy returns of the day. I wish you...  Non-Spam\n",
              "784                          I send the print  outs da.  Non-Spam\n",
              "37                            What about this one then.  Non-Spam\n",
              "109   I thought i'd get him a watch, just cos thats ...  Non-Spam\n",
              "846   Camera - _ are awarded a SiPix Digital Camera!...      Spam\n",
              "...                                                 ...       ...\n",
              "1428  Natalja (/ F) is inviting you to be her friend...      Spam\n",
              "973   ! Your 2003 Account Statement for shows un - r...      Spam\n",
              "211     Dude im no longer a pisces. Im an aquarius now.  Non-Spam\n",
              "667   its cool but tyler had to take off so we're go...  Non-Spam\n",
              "924   _ your garden _ for _ with a FREE selection of...      Spam\n",
              "\n",
              "[1677 rows x 2 columns]"
            ]
          },
          "metadata": {},
          "execution_count": 12
        }
      ],
      "source": [
        "import numpy as np\n",
        "import pandas as pd\n",
        "df = pd.read_csv('/content/dataset.csv')\n",
        "\n",
        "# shuffling all our data\n",
        "df = df.sample(frac=1)\n",
        "\n",
        "# reading only Message_body and labal\n",
        "df = df[['Message_body','Label']]\n",
        "df"
      ]
    },
    {
      "cell_type": "code",
      "source": [
        "# reading our test data\n",
        "df_test = pd.read_csv('/content/SMS_test.csv',encoding='cp1252')\n",
        "df_test"
      ],
      "metadata": {
        "colab": {
          "base_uri": "https://localhost:8080/",
          "height": 423
        },
        "id": "eoZWlWXzlgXW",
        "outputId": "4f78ea9e-2d01-4bfe-ef97-fea37d38a5a9"
      },
      "execution_count": 13,
      "outputs": [
        {
          "output_type": "execute_result",
          "data": {
            "text/html": [
              "\n",
              "  <div id=\"df-de530e00-8b1b-47f6-af40-2a02ff609f37\">\n",
              "    <div class=\"colab-df-container\">\n",
              "      <div>\n",
              "<style scoped>\n",
              "    .dataframe tbody tr th:only-of-type {\n",
              "        vertical-align: middle;\n",
              "    }\n",
              "\n",
              "    .dataframe tbody tr th {\n",
              "        vertical-align: top;\n",
              "    }\n",
              "\n",
              "    .dataframe thead th {\n",
              "        text-align: right;\n",
              "    }\n",
              "</style>\n",
              "<table border=\"1\" class=\"dataframe\">\n",
              "  <thead>\n",
              "    <tr style=\"text-align: right;\">\n",
              "      <th></th>\n",
              "      <th>S. No.</th>\n",
              "      <th>Message_body</th>\n",
              "      <th>Label</th>\n",
              "    </tr>\n",
              "  </thead>\n",
              "  <tbody>\n",
              "    <tr>\n",
              "      <th>0</th>\n",
              "      <td>1</td>\n",
              "      <td>UpgrdCentre Orange customer, you may now claim...</td>\n",
              "      <td>Spam</td>\n",
              "    </tr>\n",
              "    <tr>\n",
              "      <th>1</th>\n",
              "      <td>2</td>\n",
              "      <td>Loan for any purpose £500 - £75,000. Homeowner...</td>\n",
              "      <td>Spam</td>\n",
              "    </tr>\n",
              "    <tr>\n",
              "      <th>2</th>\n",
              "      <td>3</td>\n",
              "      <td>Congrats! Nokia 3650 video camera phone is you...</td>\n",
              "      <td>Spam</td>\n",
              "    </tr>\n",
              "    <tr>\n",
              "      <th>3</th>\n",
              "      <td>4</td>\n",
              "      <td>URGENT! Your Mobile number has been awarded wi...</td>\n",
              "      <td>Spam</td>\n",
              "    </tr>\n",
              "    <tr>\n",
              "      <th>4</th>\n",
              "      <td>5</td>\n",
              "      <td>Someone has contacted our dating service and e...</td>\n",
              "      <td>Spam</td>\n",
              "    </tr>\n",
              "    <tr>\n",
              "      <th>...</th>\n",
              "      <td>...</td>\n",
              "      <td>...</td>\n",
              "      <td>...</td>\n",
              "    </tr>\n",
              "    <tr>\n",
              "      <th>120</th>\n",
              "      <td>121</td>\n",
              "      <td>7 wonders in My WORLD 7th You 6th Ur style 5th...</td>\n",
              "      <td>Non-Spam</td>\n",
              "    </tr>\n",
              "    <tr>\n",
              "      <th>121</th>\n",
              "      <td>122</td>\n",
              "      <td>Try to do something dear. You read something f...</td>\n",
              "      <td>Non-Spam</td>\n",
              "    </tr>\n",
              "    <tr>\n",
              "      <th>122</th>\n",
              "      <td>123</td>\n",
              "      <td>Sun ah... Thk mayb can if dun have anythin on....</td>\n",
              "      <td>Non-Spam</td>\n",
              "    </tr>\n",
              "    <tr>\n",
              "      <th>123</th>\n",
              "      <td>124</td>\n",
              "      <td>SYMPTOMS when U are in love: \"1.U like listeni...</td>\n",
              "      <td>Non-Spam</td>\n",
              "    </tr>\n",
              "    <tr>\n",
              "      <th>124</th>\n",
              "      <td>125</td>\n",
              "      <td>Great. Have a safe trip. Dont panic surrender ...</td>\n",
              "      <td>Non-Spam</td>\n",
              "    </tr>\n",
              "  </tbody>\n",
              "</table>\n",
              "<p>125 rows × 3 columns</p>\n",
              "</div>\n",
              "      <button class=\"colab-df-convert\" onclick=\"convertToInteractive('df-de530e00-8b1b-47f6-af40-2a02ff609f37')\"\n",
              "              title=\"Convert this dataframe to an interactive table.\"\n",
              "              style=\"display:none;\">\n",
              "        \n",
              "  <svg xmlns=\"http://www.w3.org/2000/svg\" height=\"24px\"viewBox=\"0 0 24 24\"\n",
              "       width=\"24px\">\n",
              "    <path d=\"M0 0h24v24H0V0z\" fill=\"none\"/>\n",
              "    <path d=\"M18.56 5.44l.94 2.06.94-2.06 2.06-.94-2.06-.94-.94-2.06-.94 2.06-2.06.94zm-11 1L8.5 8.5l.94-2.06 2.06-.94-2.06-.94L8.5 2.5l-.94 2.06-2.06.94zm10 10l.94 2.06.94-2.06 2.06-.94-2.06-.94-.94-2.06-.94 2.06-2.06.94z\"/><path d=\"M17.41 7.96l-1.37-1.37c-.4-.4-.92-.59-1.43-.59-.52 0-1.04.2-1.43.59L10.3 9.45l-7.72 7.72c-.78.78-.78 2.05 0 2.83L4 21.41c.39.39.9.59 1.41.59.51 0 1.02-.2 1.41-.59l7.78-7.78 2.81-2.81c.8-.78.8-2.07 0-2.86zM5.41 20L4 18.59l7.72-7.72 1.47 1.35L5.41 20z\"/>\n",
              "  </svg>\n",
              "      </button>\n",
              "      \n",
              "  <style>\n",
              "    .colab-df-container {\n",
              "      display:flex;\n",
              "      flex-wrap:wrap;\n",
              "      gap: 12px;\n",
              "    }\n",
              "\n",
              "    .colab-df-convert {\n",
              "      background-color: #E8F0FE;\n",
              "      border: none;\n",
              "      border-radius: 50%;\n",
              "      cursor: pointer;\n",
              "      display: none;\n",
              "      fill: #1967D2;\n",
              "      height: 32px;\n",
              "      padding: 0 0 0 0;\n",
              "      width: 32px;\n",
              "    }\n",
              "\n",
              "    .colab-df-convert:hover {\n",
              "      background-color: #E2EBFA;\n",
              "      box-shadow: 0px 1px 2px rgba(60, 64, 67, 0.3), 0px 1px 3px 1px rgba(60, 64, 67, 0.15);\n",
              "      fill: #174EA6;\n",
              "    }\n",
              "\n",
              "    [theme=dark] .colab-df-convert {\n",
              "      background-color: #3B4455;\n",
              "      fill: #D2E3FC;\n",
              "    }\n",
              "\n",
              "    [theme=dark] .colab-df-convert:hover {\n",
              "      background-color: #434B5C;\n",
              "      box-shadow: 0px 1px 3px 1px rgba(0, 0, 0, 0.15);\n",
              "      filter: drop-shadow(0px 1px 2px rgba(0, 0, 0, 0.3));\n",
              "      fill: #FFFFFF;\n",
              "    }\n",
              "  </style>\n",
              "\n",
              "      <script>\n",
              "        const buttonEl =\n",
              "          document.querySelector('#df-de530e00-8b1b-47f6-af40-2a02ff609f37 button.colab-df-convert');\n",
              "        buttonEl.style.display =\n",
              "          google.colab.kernel.accessAllowed ? 'block' : 'none';\n",
              "\n",
              "        async function convertToInteractive(key) {\n",
              "          const element = document.querySelector('#df-de530e00-8b1b-47f6-af40-2a02ff609f37');\n",
              "          const dataTable =\n",
              "            await google.colab.kernel.invokeFunction('convertToInteractive',\n",
              "                                                     [key], {});\n",
              "          if (!dataTable) return;\n",
              "\n",
              "          const docLinkHtml = 'Like what you see? Visit the ' +\n",
              "            '<a target=\"_blank\" href=https://colab.research.google.com/notebooks/data_table.ipynb>data table notebook</a>'\n",
              "            + ' to learn more about interactive tables.';\n",
              "          element.innerHTML = '';\n",
              "          dataTable['output_type'] = 'display_data';\n",
              "          await google.colab.output.renderOutput(dataTable, element);\n",
              "          const docLink = document.createElement('div');\n",
              "          docLink.innerHTML = docLinkHtml;\n",
              "          element.appendChild(docLink);\n",
              "        }\n",
              "      </script>\n",
              "    </div>\n",
              "  </div>\n",
              "  "
            ],
            "text/plain": [
              "     S. No.                                       Message_body     Label\n",
              "0         1  UpgrdCentre Orange customer, you may now claim...      Spam\n",
              "1         2  Loan for any purpose £500 - £75,000. Homeowner...      Spam\n",
              "2         3  Congrats! Nokia 3650 video camera phone is you...      Spam\n",
              "3         4  URGENT! Your Mobile number has been awarded wi...      Spam\n",
              "4         5  Someone has contacted our dating service and e...      Spam\n",
              "..      ...                                                ...       ...\n",
              "120     121  7 wonders in My WORLD 7th You 6th Ur style 5th...  Non-Spam\n",
              "121     122  Try to do something dear. You read something f...  Non-Spam\n",
              "122     123  Sun ah... Thk mayb can if dun have anythin on....  Non-Spam\n",
              "123     124  SYMPTOMS when U are in love: \"1.U like listeni...  Non-Spam\n",
              "124     125  Great. Have a safe trip. Dont panic surrender ...  Non-Spam\n",
              "\n",
              "[125 rows x 3 columns]"
            ]
          },
          "metadata": {},
          "execution_count": 13
        }
      ]
    },
    {
      "cell_type": "code",
      "source": [
        "# from nltk.tokenize import WhitespaceTokenizer\n",
        "\n",
        "# import re\n",
        "\n",
        "# #library that contains punctuation\n",
        "# import string\n",
        "\n",
        "# #importing nlp library\n",
        "# import nltk\n",
        "# nltk.download('stopwords')\n",
        "\n",
        "# #Stop words present in the library\n",
        "# stopwords = nltk.corpus.stopwords.words('english')\n",
        "\n",
        "# #importing the Stemming function from nltk library\n",
        "# from nltk.stem.porter import PorterStemmer\n",
        "# #defining the object for stemming\n",
        "# porter_stemmer = PorterStemmer()\n",
        "\n",
        "\n",
        "# def text_preprocessing(text):\n",
        "\n",
        "#   # remove punctuations\n",
        "#   punctuationfree=\"\".join([i for i in text if i not in string.punctuation])\n",
        "\n",
        "#   # lower text\n",
        "#   lower_text = punctuationfree.lower()\n",
        "\n",
        "#   # tokens\n",
        "#   # Create a reference variable for Class WhitespaceTokenizer\n",
        "#   tk = WhitespaceTokenizer()\n",
        "#   lower_text = tk.tokenize(lower_text)\n",
        "\n",
        "#   # remove stopwords\n",
        "#   lower_text = [i for i in lower_text if i not in stopwords]\n",
        "\n",
        "#   # stemming\n",
        "#   text = [porter_stemmer.stem(word) for word in lower_text]\n",
        "\n",
        "#   # join for final\n",
        "#   text = \" \".join(text)\n",
        "  \n",
        "\n",
        "#   return text\n",
        "\n",
        "\n",
        "\n",
        "# print(text_preprocessing(\"Sahib $ i am a dsss copying\"))\n",
        "\n",
        "\n",
        "# df['final_txt']= df['Message_body'].apply(lambda x : text_preprocessing(x) )\n",
        "\n",
        "# df_test['final_txt']= df_test['Message_body'].apply(lambda x : text_preprocessing(x) )\n"
      ],
      "metadata": {
        "id": "V85BNtUGdZBW"
      },
      "execution_count": 14,
      "outputs": []
    },
    {
      "cell_type": "markdown",
      "source": [
        "## Remove Punctuation"
      ],
      "metadata": {
        "id": "OAPnYedFbPPA"
      }
    },
    {
      "cell_type": "code",
      "source": [
        "#library that contains punctuation\n",
        "import string\n",
        "# list of all punctuations we have\n",
        "print(string.punctuation)\n",
        "\n",
        "#defining the function to remove punctuation\n",
        "def remove_punctuation(text):\n",
        "    punctuationfree=\"\".join([i for i in text if i not in string.punctuation])\n",
        "    return punctuationfree\n",
        "\n",
        "\n",
        "#storing the puntuation free text for both training and testing data\n",
        "df['clean_msg']= df['Message_body'].apply(lambda x:remove_punctuation(x))\n",
        "df_test['clean_msg'] = df_test['Message_body'].apply(lambda x:remove_punctuation(x))\n",
        "\n",
        "df.head()"
      ],
      "metadata": {
        "colab": {
          "base_uri": "https://localhost:8080/",
          "height": 223
        },
        "id": "tXYBhO8nYeB7",
        "outputId": "276baceb-c812-450c-e2c5-3d4f7a9e7869"
      },
      "execution_count": 15,
      "outputs": [
        {
          "output_type": "stream",
          "name": "stdout",
          "text": [
            "!\"#$%&'()*+,-./:;<=>?@[\\]^_`{|}~\n"
          ]
        },
        {
          "output_type": "execute_result",
          "data": {
            "text/html": [
              "\n",
              "  <div id=\"df-c18d6e5f-5042-4a89-a203-e79c0ff9d62e\">\n",
              "    <div class=\"colab-df-container\">\n",
              "      <div>\n",
              "<style scoped>\n",
              "    .dataframe tbody tr th:only-of-type {\n",
              "        vertical-align: middle;\n",
              "    }\n",
              "\n",
              "    .dataframe tbody tr th {\n",
              "        vertical-align: top;\n",
              "    }\n",
              "\n",
              "    .dataframe thead th {\n",
              "        text-align: right;\n",
              "    }\n",
              "</style>\n",
              "<table border=\"1\" class=\"dataframe\">\n",
              "  <thead>\n",
              "    <tr style=\"text-align: right;\">\n",
              "      <th></th>\n",
              "      <th>Message_body</th>\n",
              "      <th>Label</th>\n",
              "      <th>clean_msg</th>\n",
              "    </tr>\n",
              "  </thead>\n",
              "  <tbody>\n",
              "    <tr>\n",
              "      <th>717</th>\n",
              "      <td>Many more happy returns of the day. I wish you...</td>\n",
              "      <td>Non-Spam</td>\n",
              "      <td>Many more happy returns of the day I wish you ...</td>\n",
              "    </tr>\n",
              "    <tr>\n",
              "      <th>784</th>\n",
              "      <td>I send the print  outs da.</td>\n",
              "      <td>Non-Spam</td>\n",
              "      <td>I send the print  outs da</td>\n",
              "    </tr>\n",
              "    <tr>\n",
              "      <th>37</th>\n",
              "      <td>What about this one then.</td>\n",
              "      <td>Non-Spam</td>\n",
              "      <td>What about this one then</td>\n",
              "    </tr>\n",
              "    <tr>\n",
              "      <th>109</th>\n",
              "      <td>I thought i'd get him a watch, just cos thats ...</td>\n",
              "      <td>Non-Spam</td>\n",
              "      <td>I thought id get him a watch just cos thats th...</td>\n",
              "    </tr>\n",
              "    <tr>\n",
              "      <th>846</th>\n",
              "      <td>Camera - _ are awarded a SiPix Digital Camera!...</td>\n",
              "      <td>Spam</td>\n",
              "      <td>Camera   are awarded a SiPix Digital Camera   ...</td>\n",
              "    </tr>\n",
              "  </tbody>\n",
              "</table>\n",
              "</div>\n",
              "      <button class=\"colab-df-convert\" onclick=\"convertToInteractive('df-c18d6e5f-5042-4a89-a203-e79c0ff9d62e')\"\n",
              "              title=\"Convert this dataframe to an interactive table.\"\n",
              "              style=\"display:none;\">\n",
              "        \n",
              "  <svg xmlns=\"http://www.w3.org/2000/svg\" height=\"24px\"viewBox=\"0 0 24 24\"\n",
              "       width=\"24px\">\n",
              "    <path d=\"M0 0h24v24H0V0z\" fill=\"none\"/>\n",
              "    <path d=\"M18.56 5.44l.94 2.06.94-2.06 2.06-.94-2.06-.94-.94-2.06-.94 2.06-2.06.94zm-11 1L8.5 8.5l.94-2.06 2.06-.94-2.06-.94L8.5 2.5l-.94 2.06-2.06.94zm10 10l.94 2.06.94-2.06 2.06-.94-2.06-.94-.94-2.06-.94 2.06-2.06.94z\"/><path d=\"M17.41 7.96l-1.37-1.37c-.4-.4-.92-.59-1.43-.59-.52 0-1.04.2-1.43.59L10.3 9.45l-7.72 7.72c-.78.78-.78 2.05 0 2.83L4 21.41c.39.39.9.59 1.41.59.51 0 1.02-.2 1.41-.59l7.78-7.78 2.81-2.81c.8-.78.8-2.07 0-2.86zM5.41 20L4 18.59l7.72-7.72 1.47 1.35L5.41 20z\"/>\n",
              "  </svg>\n",
              "      </button>\n",
              "      \n",
              "  <style>\n",
              "    .colab-df-container {\n",
              "      display:flex;\n",
              "      flex-wrap:wrap;\n",
              "      gap: 12px;\n",
              "    }\n",
              "\n",
              "    .colab-df-convert {\n",
              "      background-color: #E8F0FE;\n",
              "      border: none;\n",
              "      border-radius: 50%;\n",
              "      cursor: pointer;\n",
              "      display: none;\n",
              "      fill: #1967D2;\n",
              "      height: 32px;\n",
              "      padding: 0 0 0 0;\n",
              "      width: 32px;\n",
              "    }\n",
              "\n",
              "    .colab-df-convert:hover {\n",
              "      background-color: #E2EBFA;\n",
              "      box-shadow: 0px 1px 2px rgba(60, 64, 67, 0.3), 0px 1px 3px 1px rgba(60, 64, 67, 0.15);\n",
              "      fill: #174EA6;\n",
              "    }\n",
              "\n",
              "    [theme=dark] .colab-df-convert {\n",
              "      background-color: #3B4455;\n",
              "      fill: #D2E3FC;\n",
              "    }\n",
              "\n",
              "    [theme=dark] .colab-df-convert:hover {\n",
              "      background-color: #434B5C;\n",
              "      box-shadow: 0px 1px 3px 1px rgba(0, 0, 0, 0.15);\n",
              "      filter: drop-shadow(0px 1px 2px rgba(0, 0, 0, 0.3));\n",
              "      fill: #FFFFFF;\n",
              "    }\n",
              "  </style>\n",
              "\n",
              "      <script>\n",
              "        const buttonEl =\n",
              "          document.querySelector('#df-c18d6e5f-5042-4a89-a203-e79c0ff9d62e button.colab-df-convert');\n",
              "        buttonEl.style.display =\n",
              "          google.colab.kernel.accessAllowed ? 'block' : 'none';\n",
              "\n",
              "        async function convertToInteractive(key) {\n",
              "          const element = document.querySelector('#df-c18d6e5f-5042-4a89-a203-e79c0ff9d62e');\n",
              "          const dataTable =\n",
              "            await google.colab.kernel.invokeFunction('convertToInteractive',\n",
              "                                                     [key], {});\n",
              "          if (!dataTable) return;\n",
              "\n",
              "          const docLinkHtml = 'Like what you see? Visit the ' +\n",
              "            '<a target=\"_blank\" href=https://colab.research.google.com/notebooks/data_table.ipynb>data table notebook</a>'\n",
              "            + ' to learn more about interactive tables.';\n",
              "          element.innerHTML = '';\n",
              "          dataTable['output_type'] = 'display_data';\n",
              "          await google.colab.output.renderOutput(dataTable, element);\n",
              "          const docLink = document.createElement('div');\n",
              "          docLink.innerHTML = docLinkHtml;\n",
              "          element.appendChild(docLink);\n",
              "        }\n",
              "      </script>\n",
              "    </div>\n",
              "  </div>\n",
              "  "
            ],
            "text/plain": [
              "                                          Message_body  ...                                          clean_msg\n",
              "717  Many more happy returns of the day. I wish you...  ...  Many more happy returns of the day I wish you ...\n",
              "784                         I send the print  outs da.  ...                          I send the print  outs da\n",
              "37                           What about this one then.  ...                           What about this one then\n",
              "109  I thought i'd get him a watch, just cos thats ...  ...  I thought id get him a watch just cos thats th...\n",
              "846  Camera - _ are awarded a SiPix Digital Camera!...  ...  Camera   are awarded a SiPix Digital Camera   ...\n",
              "\n",
              "[5 rows x 3 columns]"
            ]
          },
          "metadata": {},
          "execution_count": 15
        }
      ]
    },
    {
      "cell_type": "markdown",
      "source": [
        "## Message Lower"
      ],
      "metadata": {
        "id": "V7q6FvS1bYFh"
      }
    },
    {
      "cell_type": "code",
      "source": [
        "df['clean_msg']= df['clean_msg'].apply(lambda x: x.lower())\n",
        "df_test['clean_msg']= df_test['clean_msg'].apply(lambda x: x.lower())"
      ],
      "metadata": {
        "id": "XbxxCwqMYeFB"
      },
      "execution_count": 16,
      "outputs": []
    },
    {
      "cell_type": "markdown",
      "source": [
        "## Remove Stopwords"
      ],
      "metadata": {
        "id": "AUirARGbbY4u"
      }
    },
    {
      "cell_type": "markdown",
      "source": [
        "Before stopwords removal tokenisation is required"
      ],
      "metadata": {
        "id": "0X25yygicPda"
      }
    },
    {
      "cell_type": "code",
      "source": [
        "#defining function for tokenization\n",
        "import re\n",
        "#whitespace tokenizer\n",
        "from nltk.tokenize import WhitespaceTokenizer\n",
        "\n",
        "def tokenization(text):\n",
        "    tk = WhitespaceTokenizer()\n",
        "    return tk.tokenize(text)\n",
        "\n",
        "#applying function to the column for making tokens in both Training and Testing data\n",
        "df['tokenised_clean_msg']= df['clean_msg'].apply(lambda x: tokenization(x))\n",
        "df_test['tokenised_clean_msg']= df_test['clean_msg'].apply(lambda x: tokenization(x))"
      ],
      "metadata": {
        "id": "R7arGZahcUWy"
      },
      "execution_count": 17,
      "outputs": []
    },
    {
      "cell_type": "code",
      "source": [
        "#importing nlp library\n",
        "import nltk\n",
        "nltk.download('stopwords')\n",
        "#Stop words present in the library\n",
        "stopwords = nltk.corpus.stopwords.words('english')\n",
        "\n",
        "\n",
        "#defining the function to remove stopwords from tokenized text\n",
        "def remove_stopwords(text):\n",
        "    output= [i for i in text if i not in stopwords]\n",
        "    return output\n",
        "\n",
        "#applying the function for removal of stopwords\n",
        "df['cleaned_tokens']= df['tokenised_clean_msg'].apply(lambda x:remove_stopwords(x))\n",
        "\n",
        "df_test['cleaned_tokens']= df_test['tokenised_clean_msg'].apply(lambda x:remove_stopwords(x))"
      ],
      "metadata": {
        "id": "AL19cfGJYeH5",
        "colab": {
          "base_uri": "https://localhost:8080/"
        },
        "outputId": "187c4f5a-8244-4bbc-87ea-8f7fd99bb03f"
      },
      "execution_count": 18,
      "outputs": [
        {
          "output_type": "stream",
          "name": "stdout",
          "text": [
            "[nltk_data] Downloading package stopwords to /root/nltk_data...\n",
            "[nltk_data]   Package stopwords is already up-to-date!\n"
          ]
        }
      ]
    },
    {
      "cell_type": "markdown",
      "source": [
        "## Stemming"
      ],
      "metadata": {
        "id": "RZYIxB6KbZoh"
      }
    },
    {
      "cell_type": "code",
      "source": [
        "#importing the Stemming function from nltk library\n",
        "from nltk.stem.porter import PorterStemmer\n",
        "#defining the object for stemming\n",
        "porter_stemmer = PorterStemmer()\n",
        "\n",
        "#defining a function for stemming\n",
        "def stemming(text):\n",
        "\n",
        "  stem_text = [porter_stemmer.stem(word) for word in text]\n",
        "  return stem_text\n",
        "\n",
        "# applying function for stemming\n",
        "df['cleaned_tokens']=df['cleaned_tokens'].apply(lambda x: stemming(x))\n",
        "df_test['cleaned_tokens']=df_test['cleaned_tokens'].apply(lambda x: stemming(x))"
      ],
      "metadata": {
        "id": "18xe32svYeKl"
      },
      "execution_count": 19,
      "outputs": []
    },
    {
      "cell_type": "code",
      "source": [
        "def join_text(text):\n",
        "  return \" \".join(text)\n",
        "\n",
        "# join text because till now we have tokens\n",
        "df['final_txt'] = df['cleaned_tokens'].apply(lambda x  : join_text(x))\n",
        "df_test['final_txt'] = df_test['cleaned_tokens'].apply(lambda x  : join_text(x))\n"
      ],
      "metadata": {
        "id": "4Lbae0lBYeNb"
      },
      "execution_count": 20,
      "outputs": []
    },
    {
      "cell_type": "markdown",
      "source": [
        "## Mapping Text Labels to Numeric Value"
      ],
      "metadata": {
        "id": "roJB8xfWs11r"
      }
    },
    {
      "cell_type": "code",
      "source": [
        "df = df[['final_txt','Label']]\n",
        "\n",
        "df_test = df[['final_txt',\"Label\"]]\n",
        "\n",
        "# as our target variable is categorical it is important to convert our categorical varibale to Numeric variable\n",
        "# Non-Spam --> 0\n",
        "# SPam --> 1\n",
        "\n",
        "final_dict = {'Non-Spam':0,'Spam':1}\n",
        "df['Label'] = df['Label'].map(final_dict)\n",
        "df_test['Label'] = df_test['Label'].map(final_dict)"
      ],
      "metadata": {
        "colab": {
          "base_uri": "https://localhost:8080/"
        },
        "id": "1J0RE__eYeQP",
        "outputId": "fd6e2edb-d22f-4886-ac18-d07a078282c9"
      },
      "execution_count": 21,
      "outputs": [
        {
          "output_type": "stream",
          "name": "stderr",
          "text": [
            "/usr/local/lib/python3.7/dist-packages/ipykernel_launcher.py:10: SettingWithCopyWarning: \n",
            "A value is trying to be set on a copy of a slice from a DataFrame.\n",
            "Try using .loc[row_indexer,col_indexer] = value instead\n",
            "\n",
            "See the caveats in the documentation: https://pandas.pydata.org/pandas-docs/stable/user_guide/indexing.html#returning-a-view-versus-a-copy\n",
            "  # Remove the CWD from sys.path while we load stuff.\n"
          ]
        }
      ]
    },
    {
      "cell_type": "markdown",
      "source": [
        "## BAG OF WORDS MODEL\n"
      ],
      "metadata": {
        "id": "BASq1qQek7R_"
      }
    },
    {
      "cell_type": "code",
      "source": [
        "# importing our Bag of Words model from sklearn\n",
        "from sklearn.feature_extraction.text import CountVectorizer\n",
        "\n",
        "train_documents_for_bow  = df['final_txt'].tolist()\n",
        "\n",
        "test_docs = df_test['final_txt'].tolist()\n",
        "\n",
        "# Create a Vectorizer Object\n",
        "vectorizer = CountVectorizer(max_features=100)\n",
        "\n",
        "vectorizer.fit(train_documents_for_bow )\n",
        "\n",
        "# Printing the identified Unique words along with their indices\n",
        "print(\"Vocabulary: \", vectorizer.vocabulary_)\n",
        "\n",
        "# Encode the Document\n",
        "X_train = vectorizer.fit_transform(train_documents_for_bow )\n",
        "\n",
        "\n",
        "# Naive Bayes \n",
        "from sklearn.naive_bayes import GaussianNB\n",
        "\n",
        "classifier = GaussianNB()\n",
        "classifier.fit(X_train.toarray(), df['Label'])\n",
        "\n",
        "\n",
        "X_test = vectorizer.transform(test_docs)\n",
        "# Predict Class\n",
        "y_pred = classifier.predict(X_test.toarray())\n",
        "\n",
        "# Accuracy \n",
        "from sklearn.metrics import accuracy_score\n",
        "accuracy = accuracy_score(df_test['Label'].tolist(), y_pred)\n",
        "print(\"Accuracy is --> \",accuracy*100)"
      ],
      "metadata": {
        "colab": {
          "base_uri": "https://localhost:8080/"
        },
        "id": "ZtC-a-KHYeWM",
        "outputId": "20961bc6-dcb3-4c48-ba8a-2822a1b4c60a"
      },
      "execution_count": 22,
      "outputs": [
        {
          "output_type": "stream",
          "name": "stdout",
          "text": [
            "Vocabulary:  {'day': 24, 'send': 75, 'one': 59, 'get': 31, 'co': 17, 'love': 47, 'camera': 14, 'award': 12, 'tri': 88, 'contact': 22, 'prize': 68, 'claim': 16, 'call': 13, 'xma': 98, 'reward': 72, 'pick': 62, 'mobil': 51, 'custom': 23, 'receiv': 70, 'latest': 44, 'go': 33, 'today': 86, 'want': 93, 'new': 54, 'nokia': 55, 'phone': 61, 'free': 28, '100': 0, 'text': 83, 'repli': 71, 'ok': 58, 'min': 50, 'line': 46, 'tone': 87, 'ur': 91, 'week': 94, 'txt': 89, 'tell': 82, 'friend': 29, '150p': 2, '16': 4, 'like': 45, '150ppm': 3, 'www': 97, 'uk': 90, 'think': 84, 'point': 65, 'need': 53, 'poli': 66, 'com': 20, 'come': 21, 'privat': 67, 'account': 10, 'statement': 79, 'show': 77, 'identifi': 39, 'code': 18, 'expir': 27, 'ye': 99, 'pleas': 64, 'win': 96, 'cash': 15, 'msg': 52, '5000': 8, 'stop': 80, 'await': 11, 'collect': 19, '50': 7, 'time': 85, 'pl': 63, 'urgent': 92, 'select': 74, 'per': 60, 'ltgt': 48, 'dont': 25, 'number': 56, 'game': 30, 'see': 73, 'good': 34, 'guarante': 37, '1000': 1, '18': 5, '2003': 6, 'sm': 78, 'draw': 26, 'servic': 76, 'great': 36, 'know': 41, 'im': 40, 'got': 35, 'landlin': 42, 'holiday': 38, 'give': 32, 'last': 43, 'weekend': 95, '800': 9, 'messag': 49, 'take': 81, 'rate': 69, 'oh': 57}\n",
            "Accuracy is -->  91.41323792486583\n"
          ]
        }
      ]
    },
    {
      "cell_type": "code",
      "source": [
        ""
      ],
      "metadata": {
        "id": "U2ACdR-NYeYr"
      },
      "execution_count": 22,
      "outputs": []
    },
    {
      "cell_type": "code",
      "source": [
        ""
      ],
      "metadata": {
        "id": "RhbA-jLOYebx"
      },
      "execution_count": 22,
      "outputs": []
    },
    {
      "cell_type": "code",
      "source": [
        ""
      ],
      "metadata": {
        "id": "UjRgHYFnYeeS"
      },
      "execution_count": 22,
      "outputs": []
    }
  ]
}